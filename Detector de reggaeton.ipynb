{
 "cells": [
  {
   "cell_type": "markdown",
   "metadata": {},
   "source": [
    "# Primera parte del SpikeChallenge \n",
    "- Analisis de atributos de los datos.\n",
    "- Se elaboraran gráficos para ayudar a entender las caracteristicas de cada DataSet"
   ]
  },
  {
   "cell_type": "code",
   "execution_count": 286,
   "metadata": {
    "collapsed": true,
    "scrolled": true
   },
   "outputs": [],
   "source": [
    "import pandas as pd\n",
    "import numpy as np\n",
    "\n",
    "import matplotlib.pyplot as plt\n",
    "import seaborn as sns\n",
    "import os\n",
    "\n",
    "from sklearn import tree\n",
    "from sklearn.tree import DecisionTreeClassifier\n",
    "from sklearn.model_selection import train_test_split\n",
    "from sklearn.metrics import accuracy_score\n",
    "from sklearn.metrics import classification_report\n",
    "from sklearn.preprocessing import StandardScaler\n",
    "from imblearn.over_sampling import RandomOverSampler\n",
    "%matplotlib inline\n",
    "\n",
    "\n",
    "\n",
    "\n"
   ]
  },
  {
   "cell_type": "code",
   "execution_count": 287,
   "metadata": {
    "collapsed": true
   },
   "outputs": [],
   "source": [
    "#Importamos los datos desde nuestro directorio hacia un DataFrame \n",
    "df_reggaeton = pd.read_csv('Spike+Challenge\\Spike Challenge\\data_reggaeton.csv')\n",
    "df_not_reggaeton = pd.read_csv('Spike+Challenge\\Spike Challenge\\data_todotipo.csv')\n"
   ]
  },
  {
   "cell_type": "markdown",
   "metadata": {},
   "source": [
    "# Veremos las caracteriscas principales de cada dataset\n",
    "- Primero veremos las caracteristicas de cada DataSet, tipos de datos, cuantos registros, etc.\n",
    "\n",
    "<b>Empezaremos con el dataSet que contiene unicamente canciones de Reggaeton:</b>\n",
    "\n",
    "- Primero tenemos informacion general del data set, tipos de datos, variables, cantidad de registros y cantidad de columnas."
   ]
  },
  {
   "cell_type": "code",
   "execution_count": 288,
   "metadata": {
    "scrolled": true
   },
   "outputs": [
    {
     "name": "stdout",
     "output_type": "stream",
     "text": [
      "<class 'pandas.core.frame.DataFrame'>\n",
      "RangeIndex: 70 entries, 0 to 69\n",
      "Data columns (total 15 columns):\n",
      "Unnamed: 0          70 non-null int64\n",
      "popularity          70 non-null int64\n",
      "danceability        70 non-null float64\n",
      "energy              70 non-null float64\n",
      "key                 70 non-null int64\n",
      "loudness            70 non-null float64\n",
      "mode                70 non-null int64\n",
      "speechiness         70 non-null float64\n",
      "acousticness        70 non-null float64\n",
      "instrumentalness    70 non-null float64\n",
      "liveness            70 non-null float64\n",
      "valence             70 non-null float64\n",
      "tempo               70 non-null float64\n",
      "duration            70 non-null int64\n",
      "id_new              70 non-null int64\n",
      "dtypes: float64(9), int64(6)\n",
      "memory usage: 8.3 KB\n"
     ]
    }
   ],
   "source": [
    "df_reggaeton.info()\n"
   ]
  },
  {
   "cell_type": "markdown",
   "metadata": {},
   "source": [
    "- Luego es una buena práctica (para el posterior estudio) determinar si el DataFrame contiene valores Nan o missin data."
   ]
  },
  {
   "cell_type": "code",
   "execution_count": 289,
   "metadata": {},
   "outputs": [
    {
     "data": {
      "text/plain": [
       "Unnamed: 0          0\n",
       "popularity          0\n",
       "danceability        0\n",
       "energy              0\n",
       "key                 0\n",
       "loudness            0\n",
       "mode                0\n",
       "speechiness         0\n",
       "acousticness        0\n",
       "instrumentalness    0\n",
       "liveness            0\n",
       "valence             0\n",
       "tempo               0\n",
       "duration            0\n",
       "id_new              0\n",
       "dtype: int64"
      ]
     },
     "execution_count": 289,
     "metadata": {},
     "output_type": "execute_result"
    }
   ],
   "source": [
    "df_reggaeton.isnull().sum()"
   ]
  },
  {
   "cell_type": "markdown",
   "metadata": {},
   "source": [
    "  En conclusión el data set con canciones de reggaeton contiene 70 registros con 15 columnas y no contiene valores NaN que puedan ocasionar problemas construyendo el modelo. Además los tipos de datos coinciden con lo esperado según la documentación de Spotify.\n",
    "\n",
    "<b>Ahora procederemos a revisar al data set con canciones NO reggaeton:</b>\n",
    "\n",
    "- Como hicimos con el data set anterior, primero, revisaremos las caracteristicas generales."
   ]
  },
  {
   "cell_type": "code",
   "execution_count": 290,
   "metadata": {},
   "outputs": [
    {
     "name": "stdout",
     "output_type": "stream",
     "text": [
      "<class 'pandas.core.frame.DataFrame'>\n",
      "RangeIndex: 2230 entries, 0 to 2229\n",
      "Data columns (total 16 columns):\n",
      "Unnamed: 0          2230 non-null int64\n",
      "popularity          2229 non-null float64\n",
      "danceability        2222 non-null float64\n",
      "energy              2222 non-null float64\n",
      "key                 2222 non-null float64\n",
      "loudness            2222 non-null float64\n",
      "mode                2222 non-null float64\n",
      "speechiness         2222 non-null float64\n",
      "acousticness        2222 non-null float64\n",
      "instrumentalness    2222 non-null float64\n",
      "liveness            2222 non-null float64\n",
      "valence             2222 non-null float64\n",
      "tempo               2222 non-null float64\n",
      "duration            2222 non-null float64\n",
      "time_signature      2222 non-null float64\n",
      "id_new              2230 non-null int64\n",
      "dtypes: float64(14), int64(2)\n",
      "memory usage: 278.8 KB\n"
     ]
    }
   ],
   "source": [
    "\n",
    "df_not_reggaeton.info()"
   ]
  },
  {
   "cell_type": "markdown",
   "metadata": {},
   "source": [
    "- A continuación  confirmaremos la integridad de los datos revisando si existen registros perdidos."
   ]
  },
  {
   "cell_type": "code",
   "execution_count": 291,
   "metadata": {},
   "outputs": [
    {
     "data": {
      "text/plain": [
       "Unnamed: 0          0\n",
       "popularity          1\n",
       "danceability        8\n",
       "energy              8\n",
       "key                 8\n",
       "loudness            8\n",
       "mode                8\n",
       "speechiness         8\n",
       "acousticness        8\n",
       "instrumentalness    8\n",
       "liveness            8\n",
       "valence             8\n",
       "tempo               8\n",
       "duration            8\n",
       "time_signature      8\n",
       "id_new              0\n",
       "dtype: int64"
      ]
     },
     "execution_count": 291,
     "metadata": {},
     "output_type": "execute_result"
    }
   ],
   "source": [
    "df_not_reggaeton.isnull().sum()"
   ]
  },
  {
   "cell_type": "markdown",
   "metadata": {},
   "source": [
    "Con este estudio preliminar de los datos, queda en evidencia que existen diferencias en los datos, el DataSet Reggaeton contiene 15 columnas mientras que el No Reggaeton contiene 16. Esto quiere decir que existe un atributo adicional que debe estudiarse para determinar cuanto impacto tendría sobre el modelo, y así decidir como se manipulará ese dato o si se elimina. \n",
    "\n",
    "De igual forma, se encontraron registros perdidos o missing data en el data set todotipo, existen multiples formas de lidiar con la data perdida, pero, depende del criterio del desarrollador, cual aplicar. Pueden remplazarse por el promedio de los otros registros o eliminarse. Según diversos autores en la web, cuando la cantidad de datos perdidos no es una parte significativa del dataset, eliminar esos registros puede ser la mejor estrategia debido a su simplicidad. Para este ejercicio procederemos a realizar la eliminación de las columnas que contengan algún dato NaN. En este caso el porcentaje es <b>0.3587%</b>\n",
    "\n",
    "Otra diferencia de los datos es el tipo de dato, mientras que las columnas duration, Key, Mode, y time signature, el tipo de dato no coincide con la documentacion oficial de Spotify. Sin embargo, esto es manejado por numpy y hace coincidir el tipo de datos cuando tengamos que unir los datos en la seccion 2.\n",
    "\n",
    "En este desafio asumimos que el atributo Popularity fue calculado previamente o extraido de fuentes confiables, ya que no se encuentra en la documentación oficial de spotify.\n"
   ]
  },
  {
   "cell_type": "code",
   "execution_count": 292,
   "metadata": {},
   "outputs": [
    {
     "data": {
      "text/plain": [
       "Unnamed: 0          0\n",
       "popularity          0\n",
       "danceability        0\n",
       "energy              0\n",
       "key                 0\n",
       "loudness            0\n",
       "mode                0\n",
       "speechiness         0\n",
       "acousticness        0\n",
       "instrumentalness    0\n",
       "liveness            0\n",
       "valence             0\n",
       "tempo               0\n",
       "duration            0\n",
       "time_signature      0\n",
       "id_new              0\n",
       "dtype: int64"
      ]
     },
     "execution_count": 292,
     "metadata": {},
     "output_type": "execute_result"
    }
   ],
   "source": [
    "df_not_reggaeton = df_not_reggaeton.dropna(axis=0, how='any')\n",
    "df_not_reggaeton.isnull().sum()"
   ]
  },
  {
   "cell_type": "markdown",
   "metadata": {},
   "source": [
    "Como se observa, ahora el dataset no contiene registros con missing data, además debido al porcentaje de registros, podemos asegurarnos que la cantidad de columnas retiradas no afectará a nuestro modelo.\n",
    "\n",
    "Cabe destacar que es de suma importancia el manejo de missing data o la limpieza de los datos en general, ya que existen algoritmos muy sensibles a este tipo de datos. Además, aunque poseamos el modelo más optimizado, sin entra basura, sale basura.\n",
    "\n",
    "Ahora continuaremos con el analisis de los atributos de cada dataset. Una manera de analizar sería observando los datos estadisticos de cada data set. "
   ]
  },
  {
   "cell_type": "code",
   "execution_count": 293,
   "metadata": {},
   "outputs": [
    {
     "data": {
      "text/html": [
       "<div>\n",
       "<style>\n",
       "    .dataframe thead tr:only-child th {\n",
       "        text-align: right;\n",
       "    }\n",
       "\n",
       "    .dataframe thead th {\n",
       "        text-align: left;\n",
       "    }\n",
       "\n",
       "    .dataframe tbody tr th {\n",
       "        vertical-align: top;\n",
       "    }\n",
       "</style>\n",
       "<table border=\"1\" class=\"dataframe\">\n",
       "  <thead>\n",
       "    <tr style=\"text-align: right;\">\n",
       "      <th></th>\n",
       "      <th>Unnamed: 0</th>\n",
       "      <th>popularity</th>\n",
       "      <th>danceability</th>\n",
       "      <th>energy</th>\n",
       "      <th>key</th>\n",
       "      <th>loudness</th>\n",
       "      <th>mode</th>\n",
       "      <th>speechiness</th>\n",
       "      <th>acousticness</th>\n",
       "      <th>instrumentalness</th>\n",
       "      <th>liveness</th>\n",
       "      <th>valence</th>\n",
       "      <th>tempo</th>\n",
       "      <th>duration</th>\n",
       "      <th>id_new</th>\n",
       "    </tr>\n",
       "  </thead>\n",
       "  <tbody>\n",
       "    <tr>\n",
       "      <th>0</th>\n",
       "      <td>1</td>\n",
       "      <td>68</td>\n",
       "      <td>0.826</td>\n",
       "      <td>0.704</td>\n",
       "      <td>9</td>\n",
       "      <td>-7.527</td>\n",
       "      <td>1</td>\n",
       "      <td>0.1170</td>\n",
       "      <td>0.1890</td>\n",
       "      <td>0.000048</td>\n",
       "      <td>0.0617</td>\n",
       "      <td>0.741</td>\n",
       "      <td>94.013</td>\n",
       "      <td>205000</td>\n",
       "      <td>1</td>\n",
       "    </tr>\n",
       "    <tr>\n",
       "      <th>1</th>\n",
       "      <td>2</td>\n",
       "      <td>61</td>\n",
       "      <td>0.641</td>\n",
       "      <td>0.693</td>\n",
       "      <td>8</td>\n",
       "      <td>-7.327</td>\n",
       "      <td>1</td>\n",
       "      <td>0.1630</td>\n",
       "      <td>0.0169</td>\n",
       "      <td>0.000000</td>\n",
       "      <td>0.2190</td>\n",
       "      <td>0.899</td>\n",
       "      <td>214.058</td>\n",
       "      <td>184413</td>\n",
       "      <td>2</td>\n",
       "    </tr>\n",
       "    <tr>\n",
       "      <th>2</th>\n",
       "      <td>3</td>\n",
       "      <td>67</td>\n",
       "      <td>0.771</td>\n",
       "      <td>0.815</td>\n",
       "      <td>1</td>\n",
       "      <td>-5.423</td>\n",
       "      <td>0</td>\n",
       "      <td>0.0719</td>\n",
       "      <td>0.1610</td>\n",
       "      <td>0.000020</td>\n",
       "      <td>0.1890</td>\n",
       "      <td>0.524</td>\n",
       "      <td>94.016</td>\n",
       "      <td>205520</td>\n",
       "      <td>3</td>\n",
       "    </tr>\n",
       "    <tr>\n",
       "      <th>3</th>\n",
       "      <td>4</td>\n",
       "      <td>63</td>\n",
       "      <td>0.743</td>\n",
       "      <td>0.787</td>\n",
       "      <td>1</td>\n",
       "      <td>-5.402</td>\n",
       "      <td>1</td>\n",
       "      <td>0.2620</td>\n",
       "      <td>0.0352</td>\n",
       "      <td>0.000000</td>\n",
       "      <td>0.0732</td>\n",
       "      <td>0.719</td>\n",
       "      <td>192.117</td>\n",
       "      <td>172680</td>\n",
       "      <td>4</td>\n",
       "    </tr>\n",
       "    <tr>\n",
       "      <th>4</th>\n",
       "      <td>5</td>\n",
       "      <td>63</td>\n",
       "      <td>0.876</td>\n",
       "      <td>0.692</td>\n",
       "      <td>10</td>\n",
       "      <td>-6.429</td>\n",
       "      <td>1</td>\n",
       "      <td>0.1040</td>\n",
       "      <td>0.1280</td>\n",
       "      <td>0.000000</td>\n",
       "      <td>0.2490</td>\n",
       "      <td>0.757</td>\n",
       "      <td>95.032</td>\n",
       "      <td>227280</td>\n",
       "      <td>5</td>\n",
       "    </tr>\n",
       "  </tbody>\n",
       "</table>\n",
       "</div>"
      ],
      "text/plain": [
       "   Unnamed: 0  popularity  danceability  energy  key  loudness  mode  \\\n",
       "0           1          68         0.826   0.704    9    -7.527     1   \n",
       "1           2          61         0.641   0.693    8    -7.327     1   \n",
       "2           3          67         0.771   0.815    1    -5.423     0   \n",
       "3           4          63         0.743   0.787    1    -5.402     1   \n",
       "4           5          63         0.876   0.692   10    -6.429     1   \n",
       "\n",
       "   speechiness  acousticness  instrumentalness  liveness  valence    tempo  \\\n",
       "0       0.1170        0.1890          0.000048    0.0617    0.741   94.013   \n",
       "1       0.1630        0.0169          0.000000    0.2190    0.899  214.058   \n",
       "2       0.0719        0.1610          0.000020    0.1890    0.524   94.016   \n",
       "3       0.2620        0.0352          0.000000    0.0732    0.719  192.117   \n",
       "4       0.1040        0.1280          0.000000    0.2490    0.757   95.032   \n",
       "\n",
       "   duration  id_new  \n",
       "0    205000       1  \n",
       "1    184413       2  \n",
       "2    205520       3  \n",
       "3    172680       4  \n",
       "4    227280       5  "
      ]
     },
     "execution_count": 293,
     "metadata": {},
     "output_type": "execute_result"
    }
   ],
   "source": [
    "df_reggaeton.describe()\n",
    "df_reggaeton.head()"
   ]
  },
  {
   "cell_type": "code",
   "execution_count": 294,
   "metadata": {},
   "outputs": [
    {
     "data": {
      "text/html": [
       "<div>\n",
       "<style>\n",
       "    .dataframe thead tr:only-child th {\n",
       "        text-align: right;\n",
       "    }\n",
       "\n",
       "    .dataframe thead th {\n",
       "        text-align: left;\n",
       "    }\n",
       "\n",
       "    .dataframe tbody tr th {\n",
       "        vertical-align: top;\n",
       "    }\n",
       "</style>\n",
       "<table border=\"1\" class=\"dataframe\">\n",
       "  <thead>\n",
       "    <tr style=\"text-align: right;\">\n",
       "      <th></th>\n",
       "      <th>Unnamed: 0</th>\n",
       "      <th>popularity</th>\n",
       "      <th>danceability</th>\n",
       "      <th>energy</th>\n",
       "      <th>key</th>\n",
       "      <th>loudness</th>\n",
       "      <th>mode</th>\n",
       "      <th>speechiness</th>\n",
       "      <th>acousticness</th>\n",
       "      <th>instrumentalness</th>\n",
       "      <th>liveness</th>\n",
       "      <th>valence</th>\n",
       "      <th>tempo</th>\n",
       "      <th>duration</th>\n",
       "      <th>time_signature</th>\n",
       "      <th>id_new</th>\n",
       "    </tr>\n",
       "  </thead>\n",
       "  <tbody>\n",
       "    <tr>\n",
       "      <th>0</th>\n",
       "      <td>1</td>\n",
       "      <td>68.0</td>\n",
       "      <td>0.650</td>\n",
       "      <td>0.884</td>\n",
       "      <td>1.0</td>\n",
       "      <td>-3.557</td>\n",
       "      <td>1.0</td>\n",
       "      <td>0.0326</td>\n",
       "      <td>0.048200</td>\n",
       "      <td>0.154000</td>\n",
       "      <td>0.1350</td>\n",
       "      <td>0.377</td>\n",
       "      <td>125.998</td>\n",
       "      <td>200952.0</td>\n",
       "      <td>4.0</td>\n",
       "      <td>71</td>\n",
       "    </tr>\n",
       "    <tr>\n",
       "      <th>1</th>\n",
       "      <td>2</td>\n",
       "      <td>59.0</td>\n",
       "      <td>0.588</td>\n",
       "      <td>0.623</td>\n",
       "      <td>11.0</td>\n",
       "      <td>-8.027</td>\n",
       "      <td>0.0</td>\n",
       "      <td>0.0304</td>\n",
       "      <td>0.000288</td>\n",
       "      <td>0.451000</td>\n",
       "      <td>0.1840</td>\n",
       "      <td>0.169</td>\n",
       "      <td>135.993</td>\n",
       "      <td>417188.0</td>\n",
       "      <td>4.0</td>\n",
       "      <td>72</td>\n",
       "    </tr>\n",
       "    <tr>\n",
       "      <th>2</th>\n",
       "      <td>3</td>\n",
       "      <td>61.0</td>\n",
       "      <td>0.577</td>\n",
       "      <td>0.880</td>\n",
       "      <td>6.0</td>\n",
       "      <td>-2.916</td>\n",
       "      <td>1.0</td>\n",
       "      <td>0.0357</td>\n",
       "      <td>0.335000</td>\n",
       "      <td>0.896000</td>\n",
       "      <td>0.1430</td>\n",
       "      <td>0.259</td>\n",
       "      <td>127.951</td>\n",
       "      <td>204375.0</td>\n",
       "      <td>4.0</td>\n",
       "      <td>73</td>\n",
       "    </tr>\n",
       "    <tr>\n",
       "      <th>3</th>\n",
       "      <td>4</td>\n",
       "      <td>60.0</td>\n",
       "      <td>0.795</td>\n",
       "      <td>0.724</td>\n",
       "      <td>11.0</td>\n",
       "      <td>-6.532</td>\n",
       "      <td>0.0</td>\n",
       "      <td>0.0861</td>\n",
       "      <td>0.404000</td>\n",
       "      <td>0.000002</td>\n",
       "      <td>0.3740</td>\n",
       "      <td>0.445</td>\n",
       "      <td>123.998</td>\n",
       "      <td>219024.0</td>\n",
       "      <td>4.0</td>\n",
       "      <td>74</td>\n",
       "    </tr>\n",
       "    <tr>\n",
       "      <th>4</th>\n",
       "      <td>5</td>\n",
       "      <td>62.0</td>\n",
       "      <td>0.557</td>\n",
       "      <td>0.703</td>\n",
       "      <td>8.0</td>\n",
       "      <td>-2.062</td>\n",
       "      <td>0.0</td>\n",
       "      <td>0.0277</td>\n",
       "      <td>0.203000</td>\n",
       "      <td>0.000156</td>\n",
       "      <td>0.0927</td>\n",
       "      <td>0.228</td>\n",
       "      <td>150.037</td>\n",
       "      <td>233600.0</td>\n",
       "      <td>4.0</td>\n",
       "      <td>75</td>\n",
       "    </tr>\n",
       "  </tbody>\n",
       "</table>\n",
       "</div>"
      ],
      "text/plain": [
       "   Unnamed: 0  popularity  danceability  energy   key  loudness  mode  \\\n",
       "0           1        68.0         0.650   0.884   1.0    -3.557   1.0   \n",
       "1           2        59.0         0.588   0.623  11.0    -8.027   0.0   \n",
       "2           3        61.0         0.577   0.880   6.0    -2.916   1.0   \n",
       "3           4        60.0         0.795   0.724  11.0    -6.532   0.0   \n",
       "4           5        62.0         0.557   0.703   8.0    -2.062   0.0   \n",
       "\n",
       "   speechiness  acousticness  instrumentalness  liveness  valence    tempo  \\\n",
       "0       0.0326      0.048200          0.154000    0.1350    0.377  125.998   \n",
       "1       0.0304      0.000288          0.451000    0.1840    0.169  135.993   \n",
       "2       0.0357      0.335000          0.896000    0.1430    0.259  127.951   \n",
       "3       0.0861      0.404000          0.000002    0.3740    0.445  123.998   \n",
       "4       0.0277      0.203000          0.000156    0.0927    0.228  150.037   \n",
       "\n",
       "   duration  time_signature  id_new  \n",
       "0  200952.0             4.0      71  \n",
       "1  417188.0             4.0      72  \n",
       "2  204375.0             4.0      73  \n",
       "3  219024.0             4.0      74  \n",
       "4  233600.0             4.0      75  "
      ]
     },
     "execution_count": 294,
     "metadata": {},
     "output_type": "execute_result"
    }
   ],
   "source": [
    "df_not_reggaeton.describe()\n",
    "df_not_reggaeton.head()"
   ]
  },
  {
   "cell_type": "code",
   "execution_count": null,
   "metadata": {
    "collapsed": true
   },
   "outputs": [],
   "source": []
  },
  {
   "cell_type": "markdown",
   "metadata": {},
   "source": [
    "A pesar de tener los datos de cada data set, es conocido por todos qué los graficos son herramientas fundamentales al momento de entender la naturaleza de los datos. Es por eso que se decidió realizar graficas comparativas entre cada data set. Aplicaremos histogramas de cada atributo ya que esté tipo de grafico nos ayuda a ver que atributo es caracteristico de cada DataSet. En los gráficos a continuación se decidió retirar la columna time-signature de el data set todo tipo, ya que time signature es: <blockquote>\"An estimated overall time signature of a track. The time signature (meter) is a notational convention to specify how many beats are in each bar (or measure)\".</blockquote> Podemos descartarla como atributo a nuestro modelo, ya que al tener atributos como tempo, que si nos proporcionan información sobre la musica, no necesitamos un atributo que nos diga como fue escrita o como es leida ."
   ]
  },
  {
   "cell_type": "code",
   "execution_count": 295,
   "metadata": {
    "collapsed": true
   },
   "outputs": [],
   "source": [
    "#Esta funcion me ayuda a graficar lado a lado cada atributo de los dataset\n",
    "#y así tener una perspectiva clara de sus mayores diferencias.\n",
    "#Gracias a Ragleton https://gist.github.com/raggleton/828131c3e11bde0d29c7\n",
    "\n",
    "df_reggaeton_for_plot = df_reggaeton[df_reggaeton.columns.difference(['Unnamed: 0', 'id_new'])]\n",
    "def plot_two_hists(var, df1, df2, title1, title2, xlabel, ylabel, **kwargs):\n",
    "    \"\"\"function to make 2 side-by-side hists to compare 2 dataframes\"\"\"\n",
    "    fig2, ax2 = plt.subplots(nrows=1, ncols=2)\n",
    "    fig2.set_size_inches(12, 4)\n",
    "    plt.subplots_adjust(wspace=0.2)\n",
    "    \n",
    "    df1[var].plot(kind=\"hist\", ax=ax2[0], title=title1, **kwargs,edgecolor='k')\n",
    "    ax2[0].set_xlabel(xlabel)\n",
    "    ax2[0].set_ylabel(ylabel)\n",
    "\n",
    "    df2[var].plot(kind=\"hist\", ax=ax2[1], title=title2, **kwargs,edgecolor='k')\n",
    "    ax2[1].set_xlabel(xlabel)\n",
    "    ax2[1].set_ylabel(ylabel)\n",
    "\n",
    "    # set range of both y axis to cover smallest minimum, largest maximum\n",
    "    miny = min(ax2[0].get_ylim()[0], ax2[1].get_ylim()[0])\n",
    "    maxy = max(ax2[0].get_ylim()[1], ax2[1].get_ylim()[1])\n",
    "    \n",
    "    return fig2, ax2"
   ]
  },
  {
   "cell_type": "code",
   "execution_count": 296,
   "metadata": {
    "scrolled": false
   },
   "outputs": [
    {
     "data": {
      "image/png": "[encoded data removed]",
      "text/plain": [
       "<matplotlib.figure.Figure at 0x2165050f240>"
      ]
     },
     "metadata": {},
     "output_type": "display_data"
    },
    {
     "data": {
      "image/png": "[encoded data removed]",
      "text/plain": [
       "<matplotlib.figure.Figure at 0x21650642fd0>"
      ]
     },
     "metadata": {},
     "output_type": "display_data"
    },
    {
     "data": {
      "image/png": "[encoded data removed]",
      "text/plain": [
       "<matplotlib.figure.Figure at 0x216460ef390>"
      ]
     },
     "metadata": {},
     "output_type": "display_data"
    },
    {
     "data": {
      "image/png": "[encoded data removed]",
      "text/plain": [
       "<matplotlib.figure.Figure at 0x2164f26bc88>"
      ]
     },
     "metadata": {},
     "output_type": "display_data"
    },
    {
     "data": {
      "image/png": "[encoded data removed]",
      "text/plain": [
       "<matplotlib.figure.Figure at 0x21646e33a20>"
      ]
     },
     "metadata": {},
     "output_type": "display_data"
    },
    {
     "data": {
      "image/png": "[encoded data removed]",
      "text/plain": [
       "<matplotlib.figure.Figure at 0x2164edd9c88>"
      ]
     },
     "metadata": {},
     "output_type": "display_data"
    },
    {
     "data": {
      "image/png": "[encoded data removed]",
      "text/plain": [
       "<matplotlib.figure.Figure at 0x2164f1baac8>"
      ]
     },
     "metadata": {},
     "output_type": "display_data"
    },
    {
     "data": {
      "image/png": "[encoded data removed]",
      "text/plain": [
       "<matplotlib.figure.Figure at 0x2164eb2f908>"
      ]
     },
     "metadata": {},
     "output_type": "display_data"
    },
    {
     "data": {
      "image/png": "[encoded data removed]",
      "text/plain": [
       "<matplotlib.figure.Figure at 0x2164f191f60>"
      ]
     },
     "metadata": {},
     "output_type": "display_data"
    },
    {
     "data": {
      "image/png": "[encoded data removed]",
      "text/plain": [
       "<matplotlib.figure.Figure at 0x2164eb72898>"
      ]
     },
     "metadata": {},
     "output_type": "display_data"
    },
    {
     "data": {
      "image/png": "[encoded data removed]",
      "text/plain": [
       "<matplotlib.figure.Figure at 0x2164e73fe48>"
      ]
     },
     "metadata": {},
     "output_type": "display_data"
    },
    {
     "data": {
      "image/png": "[encoded data removed]",
      "text/plain": [
       "<matplotlib.figure.Figure at 0x2164ecadba8>"
      ]
     },
     "metadata": {},
     "output_type": "display_data"
    },
    {
     "data": {
      "image/png": "[encoded data removed]",
      "text/plain": [
       "<matplotlib.figure.Figure at 0x2164e319fd0>"
      ]
     },
     "metadata": {},
     "output_type": "display_data"
    }
   ],
   "source": [
    "\n",
    "for item in df_reggaeton_for_plot:\n",
    "    \n",
    "    plot_two_hists(item,df_reggaeton,df_not_reggaeton,'Reggaeton','Not Reggaeton',item,'Frecuency')\n",
    "    \n"
   ]
  },
  {
   "cell_type": "markdown",
   "metadata": {
    "collapsed": true,
    "scrolled": true
   },
   "source": [
    "A través de las gráficas podemos ver cuales son los atributos primordiales que distinguen una canción de reggaeton, y tambien discriminar aquellos que no pueden ayudarnos a diferenciarlas."
   ]
  },
  {
   "cell_type": "markdown",
   "metadata": {
    "collapsed": true
   },
   "source": [
    "# Segunda parte del SpikeChallenge\n",
    "\n",
    "- Como segunda parte del desafio, se nos pide consolidar los dos dataset en uno solo y generar un archivo CSV que contenga una marca indicando si la canción es un reggaeton o no. Como se nos pidió hacerlo en base a los data set, creo que la forma más sencilla es con la id asignada por los creadores del reto para identificar cada canción. Otra forma sería con el parametro sobrante en el dataset todotipo.\n",
    "<br> \n",
    "<br> \n",
    "<br> \n",
    "- Debido a que la intención es crear un modelo de ML, decidí unir los dos dataset en uno solo omitiendo el atributo time_signature y las filas con missing data para darle homogeneidad al dataSet.\n",
    "\n",
    "Si revisamos brevemente cada dataSet, podemos observar que a cada canción le fue asignada un Id unico, llamado id_new, el cuál en el data set reggaeton va desde 1 a 70, y en el dataSet todotipo, desde 71 a 2300, por lo tanto si queremos generar una marca, EN BASE A LOS DATA SET la mejor manera es crear dicha marca usando esos intervalos como referencia. Un incoveniente de este metodo sería agregar nuevas canciones ."
   ]
  },
  {
   "cell_type": "code",
   "execution_count": 297,
   "metadata": {},
   "outputs": [
    {
     "name": "stdout",
     "output_type": "stream",
     "text": [
      "Primer id_new del DataSet Reggaeton:  1\n",
      "Ultimo id_new del DataSet Reggaeton:  70\n",
      "Primer id_new del DataSet todotipo: 71\n",
      "Ultimo id_new del DataSet todotipo: 2300\n"
     ]
    }
   ],
   "source": [
    "print('Primer id_new del DataSet Reggaeton: ', df_reggaeton['id_new'].iloc[0])\n",
    "print('Ultimo id_new del DataSet Reggaeton: ', df_reggaeton['id_new'].iloc[-1])\n",
    "print('Primer id_new del DataSet todotipo:', df_not_reggaeton['id_new'].iloc[0])\n",
    "print('Ultimo id_new del DataSet todotipo:', df_not_reggaeton['id_new'].iloc[-1])"
   ]
  },
  {
   "cell_type": "markdown",
   "metadata": {},
   "source": [
    "- Eliminamos time_signature de todotipo."
   ]
  },
  {
   "cell_type": "code",
   "execution_count": 298,
   "metadata": {
    "collapsed": true
   },
   "outputs": [],
   "source": [
    "df_not_reggaeton = df_not_reggaeton.drop('time_signature',axis = 1)\n"
   ]
  },
  {
   "cell_type": "markdown",
   "metadata": {},
   "source": [
    "- Vemos ahora que las columnas coinciden:\n"
   ]
  },
  {
   "cell_type": "code",
   "execution_count": 299,
   "metadata": {},
   "outputs": [
    {
     "data": {
      "text/html": [
       "<div>\n",
       "<style>\n",
       "    .dataframe thead tr:only-child th {\n",
       "        text-align: right;\n",
       "    }\n",
       "\n",
       "    .dataframe thead th {\n",
       "        text-align: left;\n",
       "    }\n",
       "\n",
       "    .dataframe tbody tr th {\n",
       "        vertical-align: top;\n",
       "    }\n",
       "</style>\n",
       "<table border=\"1\" class=\"dataframe\">\n",
       "  <thead>\n",
       "    <tr style=\"text-align: right;\">\n",
       "      <th></th>\n",
       "      <th>Unnamed: 0</th>\n",
       "      <th>popularity</th>\n",
       "      <th>danceability</th>\n",
       "      <th>energy</th>\n",
       "      <th>key</th>\n",
       "      <th>loudness</th>\n",
       "      <th>mode</th>\n",
       "      <th>speechiness</th>\n",
       "      <th>acousticness</th>\n",
       "      <th>instrumentalness</th>\n",
       "      <th>liveness</th>\n",
       "      <th>valence</th>\n",
       "      <th>tempo</th>\n",
       "      <th>duration</th>\n",
       "      <th>id_new</th>\n",
       "    </tr>\n",
       "  </thead>\n",
       "  <tbody>\n",
       "    <tr>\n",
       "      <th>count</th>\n",
       "      <td>2222.000000</td>\n",
       "      <td>2222.000000</td>\n",
       "      <td>2222.000000</td>\n",
       "      <td>2222.000000</td>\n",
       "      <td>2222.000000</td>\n",
       "      <td>2222.000000</td>\n",
       "      <td>2222.000000</td>\n",
       "      <td>2222.000000</td>\n",
       "      <td>2222.000000</td>\n",
       "      <td>2222.000000</td>\n",
       "      <td>2222.000000</td>\n",
       "      <td>2222.000000</td>\n",
       "      <td>2222.000000</td>\n",
       "      <td>2222.000000</td>\n",
       "      <td>2222.000000</td>\n",
       "    </tr>\n",
       "    <tr>\n",
       "      <th>mean</th>\n",
       "      <td>1115.549955</td>\n",
       "      <td>52.102160</td>\n",
       "      <td>0.566439</td>\n",
       "      <td>0.607263</td>\n",
       "      <td>5.175518</td>\n",
       "      <td>-9.641344</td>\n",
       "      <td>0.596760</td>\n",
       "      <td>0.067720</td>\n",
       "      <td>0.346486</td>\n",
       "      <td>0.215211</td>\n",
       "      <td>0.179627</td>\n",
       "      <td>0.530849</td>\n",
       "      <td>118.338830</td>\n",
       "      <td>233872.923042</td>\n",
       "      <td>1185.549955</td>\n",
       "    </tr>\n",
       "    <tr>\n",
       "      <th>std</th>\n",
       "      <td>644.719929</td>\n",
       "      <td>17.425519</td>\n",
       "      <td>0.165887</td>\n",
       "      <td>0.282298</td>\n",
       "      <td>3.519774</td>\n",
       "      <td>6.141384</td>\n",
       "      <td>0.490659</td>\n",
       "      <td>0.063484</td>\n",
       "      <td>0.360734</td>\n",
       "      <td>0.351567</td>\n",
       "      <td>0.154093</td>\n",
       "      <td>0.275088</td>\n",
       "      <td>28.527313</td>\n",
       "      <td>77944.498354</td>\n",
       "      <td>644.719929</td>\n",
       "    </tr>\n",
       "    <tr>\n",
       "      <th>min</th>\n",
       "      <td>1.000000</td>\n",
       "      <td>0.000000</td>\n",
       "      <td>0.062700</td>\n",
       "      <td>0.001810</td>\n",
       "      <td>0.000000</td>\n",
       "      <td>-42.117000</td>\n",
       "      <td>0.000000</td>\n",
       "      <td>0.023100</td>\n",
       "      <td>0.000002</td>\n",
       "      <td>0.000000</td>\n",
       "      <td>0.018000</td>\n",
       "      <td>0.027900</td>\n",
       "      <td>33.579000</td>\n",
       "      <td>46667.000000</td>\n",
       "      <td>71.000000</td>\n",
       "    </tr>\n",
       "    <tr>\n",
       "      <th>25%</th>\n",
       "      <td>557.250000</td>\n",
       "      <td>42.000000</td>\n",
       "      <td>0.456000</td>\n",
       "      <td>0.406250</td>\n",
       "      <td>2.000000</td>\n",
       "      <td>-11.316000</td>\n",
       "      <td>0.000000</td>\n",
       "      <td>0.035500</td>\n",
       "      <td>0.021275</td>\n",
       "      <td>0.000005</td>\n",
       "      <td>0.089600</td>\n",
       "      <td>0.298000</td>\n",
       "      <td>97.411750</td>\n",
       "      <td>187160.250000</td>\n",
       "      <td>627.250000</td>\n",
       "    </tr>\n",
       "    <tr>\n",
       "      <th>50%</th>\n",
       "      <td>1114.500000</td>\n",
       "      <td>56.000000</td>\n",
       "      <td>0.579000</td>\n",
       "      <td>0.671000</td>\n",
       "      <td>5.000000</td>\n",
       "      <td>-8.017500</td>\n",
       "      <td>1.000000</td>\n",
       "      <td>0.045700</td>\n",
       "      <td>0.189000</td>\n",
       "      <td>0.001660</td>\n",
       "      <td>0.118500</td>\n",
       "      <td>0.538500</td>\n",
       "      <td>117.947000</td>\n",
       "      <td>225257.000000</td>\n",
       "      <td>1184.500000</td>\n",
       "    </tr>\n",
       "    <tr>\n",
       "      <th>75%</th>\n",
       "      <td>1674.750000</td>\n",
       "      <td>64.000000</td>\n",
       "      <td>0.690750</td>\n",
       "      <td>0.847000</td>\n",
       "      <td>8.000000</td>\n",
       "      <td>-5.699000</td>\n",
       "      <td>1.000000</td>\n",
       "      <td>0.069900</td>\n",
       "      <td>0.667250</td>\n",
       "      <td>0.328750</td>\n",
       "      <td>0.217750</td>\n",
       "      <td>0.767000</td>\n",
       "      <td>133.873250</td>\n",
       "      <td>272177.000000</td>\n",
       "      <td>1744.750000</td>\n",
       "    </tr>\n",
       "    <tr>\n",
       "      <th>max</th>\n",
       "      <td>2230.000000</td>\n",
       "      <td>98.000000</td>\n",
       "      <td>0.942000</td>\n",
       "      <td>0.998000</td>\n",
       "      <td>11.000000</td>\n",
       "      <td>-0.282000</td>\n",
       "      <td>1.000000</td>\n",
       "      <td>0.668000</td>\n",
       "      <td>0.996000</td>\n",
       "      <td>0.985000</td>\n",
       "      <td>0.978000</td>\n",
       "      <td>0.982000</td>\n",
       "      <td>211.893000</td>\n",
       "      <td>768507.000000</td>\n",
       "      <td>2300.000000</td>\n",
       "    </tr>\n",
       "  </tbody>\n",
       "</table>\n",
       "</div>"
      ],
      "text/plain": [
       "        Unnamed: 0   popularity  danceability       energy          key  \\\n",
       "count  2222.000000  2222.000000   2222.000000  2222.000000  2222.000000   \n",
       "mean   1115.549955    52.102160      0.566439     0.607263     5.175518   \n",
       "std     644.719929    17.425519      0.165887     0.282298     3.519774   \n",
       "min       1.000000     0.000000      0.062700     0.001810     0.000000   \n",
       "25%     557.250000    42.000000      0.456000     0.406250     2.000000   \n",
       "50%    1114.500000    56.000000      0.579000     0.671000     5.000000   \n",
       "75%    1674.750000    64.000000      0.690750     0.847000     8.000000   \n",
       "max    2230.000000    98.000000      0.942000     0.998000    11.000000   \n",
       "\n",
       "          loudness         mode  speechiness  acousticness  instrumentalness  \\\n",
       "count  2222.000000  2222.000000  2222.000000   2222.000000       2222.000000   \n",
       "mean     -9.641344     0.596760     0.067720      0.346486          0.215211   \n",
       "std       6.141384     0.490659     0.063484      0.360734          0.351567   \n",
       "min     -42.117000     0.000000     0.023100      0.000002          0.000000   \n",
       "25%     -11.316000     0.000000     0.035500      0.021275          0.000005   \n",
       "50%      -8.017500     1.000000     0.045700      0.189000          0.001660   \n",
       "75%      -5.699000     1.000000     0.069900      0.667250          0.328750   \n",
       "max      -0.282000     1.000000     0.668000      0.996000          0.985000   \n",
       "\n",
       "          liveness      valence        tempo       duration       id_new  \n",
       "count  2222.000000  2222.000000  2222.000000    2222.000000  2222.000000  \n",
       "mean      0.179627     0.530849   118.338830  233872.923042  1185.549955  \n",
       "std       0.154093     0.275088    28.527313   77944.498354   644.719929  \n",
       "min       0.018000     0.027900    33.579000   46667.000000    71.000000  \n",
       "25%       0.089600     0.298000    97.411750  187160.250000   627.250000  \n",
       "50%       0.118500     0.538500   117.947000  225257.000000  1184.500000  \n",
       "75%       0.217750     0.767000   133.873250  272177.000000  1744.750000  \n",
       "max       0.978000     0.982000   211.893000  768507.000000  2300.000000  "
      ]
     },
     "execution_count": 299,
     "metadata": {},
     "output_type": "execute_result"
    }
   ],
   "source": [
    "df_not_reggaeton.describe()"
   ]
  },
  {
   "cell_type": "code",
   "execution_count": 300,
   "metadata": {},
   "outputs": [
    {
     "data": {
      "text/html": [
       "<div>\n",
       "<style>\n",
       "    .dataframe thead tr:only-child th {\n",
       "        text-align: right;\n",
       "    }\n",
       "\n",
       "    .dataframe thead th {\n",
       "        text-align: left;\n",
       "    }\n",
       "\n",
       "    .dataframe tbody tr th {\n",
       "        vertical-align: top;\n",
       "    }\n",
       "</style>\n",
       "<table border=\"1\" class=\"dataframe\">\n",
       "  <thead>\n",
       "    <tr style=\"text-align: right;\">\n",
       "      <th></th>\n",
       "      <th>Unnamed: 0</th>\n",
       "      <th>popularity</th>\n",
       "      <th>danceability</th>\n",
       "      <th>energy</th>\n",
       "      <th>key</th>\n",
       "      <th>loudness</th>\n",
       "      <th>mode</th>\n",
       "      <th>speechiness</th>\n",
       "      <th>acousticness</th>\n",
       "      <th>instrumentalness</th>\n",
       "      <th>liveness</th>\n",
       "      <th>valence</th>\n",
       "      <th>tempo</th>\n",
       "      <th>duration</th>\n",
       "      <th>id_new</th>\n",
       "    </tr>\n",
       "  </thead>\n",
       "  <tbody>\n",
       "    <tr>\n",
       "      <th>count</th>\n",
       "      <td>70.000000</td>\n",
       "      <td>70.000000</td>\n",
       "      <td>70.000000</td>\n",
       "      <td>70.000000</td>\n",
       "      <td>70.000000</td>\n",
       "      <td>70.000000</td>\n",
       "      <td>70.000000</td>\n",
       "      <td>70.000000</td>\n",
       "      <td>70.000000</td>\n",
       "      <td>70.000000</td>\n",
       "      <td>70.000000</td>\n",
       "      <td>70.000000</td>\n",
       "      <td>70.000000</td>\n",
       "      <td>7.000000e+01</td>\n",
       "      <td>70.000000</td>\n",
       "    </tr>\n",
       "    <tr>\n",
       "      <th>mean</th>\n",
       "      <td>35.500000</td>\n",
       "      <td>56.957143</td>\n",
       "      <td>0.776000</td>\n",
       "      <td>0.778171</td>\n",
       "      <td>5.600000</td>\n",
       "      <td>-6.327571</td>\n",
       "      <td>0.571429</td>\n",
       "      <td>0.120620</td>\n",
       "      <td>0.158725</td>\n",
       "      <td>0.005461</td>\n",
       "      <td>0.189397</td>\n",
       "      <td>0.702671</td>\n",
       "      <td>105.910286</td>\n",
       "      <td>2.756467e+05</td>\n",
       "      <td>35.500000</td>\n",
       "    </tr>\n",
       "    <tr>\n",
       "      <th>std</th>\n",
       "      <td>20.351085</td>\n",
       "      <td>10.703427</td>\n",
       "      <td>0.080724</td>\n",
       "      <td>0.097774</td>\n",
       "      <td>3.696453</td>\n",
       "      <td>2.243060</td>\n",
       "      <td>0.498445</td>\n",
       "      <td>0.075096</td>\n",
       "      <td>0.132574</td>\n",
       "      <td>0.029874</td>\n",
       "      <td>0.128542</td>\n",
       "      <td>0.152090</td>\n",
       "      <td>28.554854</td>\n",
       "      <td>2.575437e+05</td>\n",
       "      <td>20.351085</td>\n",
       "    </tr>\n",
       "    <tr>\n",
       "      <th>min</th>\n",
       "      <td>1.000000</td>\n",
       "      <td>27.000000</td>\n",
       "      <td>0.503000</td>\n",
       "      <td>0.533000</td>\n",
       "      <td>0.000000</td>\n",
       "      <td>-13.268000</td>\n",
       "      <td>0.000000</td>\n",
       "      <td>0.032000</td>\n",
       "      <td>0.001650</td>\n",
       "      <td>0.000000</td>\n",
       "      <td>0.035400</td>\n",
       "      <td>0.354000</td>\n",
       "      <td>84.012000</td>\n",
       "      <td>1.516670e+05</td>\n",
       "      <td>1.000000</td>\n",
       "    </tr>\n",
       "    <tr>\n",
       "      <th>25%</th>\n",
       "      <td>18.250000</td>\n",
       "      <td>52.250000</td>\n",
       "      <td>0.743250</td>\n",
       "      <td>0.700250</td>\n",
       "      <td>1.000000</td>\n",
       "      <td>-7.128750</td>\n",
       "      <td>0.000000</td>\n",
       "      <td>0.064375</td>\n",
       "      <td>0.056025</td>\n",
       "      <td>0.000000</td>\n",
       "      <td>0.094475</td>\n",
       "      <td>0.582250</td>\n",
       "      <td>93.993500</td>\n",
       "      <td>1.964132e+05</td>\n",
       "      <td>18.250000</td>\n",
       "    </tr>\n",
       "    <tr>\n",
       "      <th>50%</th>\n",
       "      <td>35.500000</td>\n",
       "      <td>59.000000</td>\n",
       "      <td>0.792000</td>\n",
       "      <td>0.790000</td>\n",
       "      <td>6.500000</td>\n",
       "      <td>-6.031000</td>\n",
       "      <td>1.000000</td>\n",
       "      <td>0.090600</td>\n",
       "      <td>0.113000</td>\n",
       "      <td>0.000001</td>\n",
       "      <td>0.141000</td>\n",
       "      <td>0.722500</td>\n",
       "      <td>95.018500</td>\n",
       "      <td>2.195305e+05</td>\n",
       "      <td>35.500000</td>\n",
       "    </tr>\n",
       "    <tr>\n",
       "      <th>75%</th>\n",
       "      <td>52.750000</td>\n",
       "      <td>63.000000</td>\n",
       "      <td>0.827500</td>\n",
       "      <td>0.863500</td>\n",
       "      <td>9.000000</td>\n",
       "      <td>-4.959750</td>\n",
       "      <td>1.000000</td>\n",
       "      <td>0.161000</td>\n",
       "      <td>0.243500</td>\n",
       "      <td>0.000019</td>\n",
       "      <td>0.262500</td>\n",
       "      <td>0.830250</td>\n",
       "      <td>102.277750</td>\n",
       "      <td>2.509098e+05</td>\n",
       "      <td>52.750000</td>\n",
       "    </tr>\n",
       "    <tr>\n",
       "      <th>max</th>\n",
       "      <td>70.000000</td>\n",
       "      <td>75.000000</td>\n",
       "      <td>0.944000</td>\n",
       "      <td>0.946000</td>\n",
       "      <td>11.000000</td>\n",
       "      <td>-0.262000</td>\n",
       "      <td>1.000000</td>\n",
       "      <td>0.308000</td>\n",
       "      <td>0.563000</td>\n",
       "      <td>0.243000</td>\n",
       "      <td>0.776000</td>\n",
       "      <td>0.966000</td>\n",
       "      <td>214.058000</td>\n",
       "      <td>1.499600e+06</td>\n",
       "      <td>70.000000</td>\n",
       "    </tr>\n",
       "  </tbody>\n",
       "</table>\n",
       "</div>"
      ],
      "text/plain": [
       "       Unnamed: 0  popularity  danceability     energy        key   loudness  \\\n",
       "count   70.000000   70.000000     70.000000  70.000000  70.000000  70.000000   \n",
       "mean    35.500000   56.957143      0.776000   0.778171   5.600000  -6.327571   \n",
       "std     20.351085   10.703427      0.080724   0.097774   3.696453   2.243060   \n",
       "min      1.000000   27.000000      0.503000   0.533000   0.000000 -13.268000   \n",
       "25%     18.250000   52.250000      0.743250   0.700250   1.000000  -7.128750   \n",
       "50%     35.500000   59.000000      0.792000   0.790000   6.500000  -6.031000   \n",
       "75%     52.750000   63.000000      0.827500   0.863500   9.000000  -4.959750   \n",
       "max     70.000000   75.000000      0.944000   0.946000  11.000000  -0.262000   \n",
       "\n",
       "            mode  speechiness  acousticness  instrumentalness   liveness  \\\n",
       "count  70.000000    70.000000     70.000000         70.000000  70.000000   \n",
       "mean    0.571429     0.120620      0.158725          0.005461   0.189397   \n",
       "std     0.498445     0.075096      0.132574          0.029874   0.128542   \n",
       "min     0.000000     0.032000      0.001650          0.000000   0.035400   \n",
       "25%     0.000000     0.064375      0.056025          0.000000   0.094475   \n",
       "50%     1.000000     0.090600      0.113000          0.000001   0.141000   \n",
       "75%     1.000000     0.161000      0.243500          0.000019   0.262500   \n",
       "max     1.000000     0.308000      0.563000          0.243000   0.776000   \n",
       "\n",
       "         valence       tempo      duration     id_new  \n",
       "count  70.000000   70.000000  7.000000e+01  70.000000  \n",
       "mean    0.702671  105.910286  2.756467e+05  35.500000  \n",
       "std     0.152090   28.554854  2.575437e+05  20.351085  \n",
       "min     0.354000   84.012000  1.516670e+05   1.000000  \n",
       "25%     0.582250   93.993500  1.964132e+05  18.250000  \n",
       "50%     0.722500   95.018500  2.195305e+05  35.500000  \n",
       "75%     0.830250  102.277750  2.509098e+05  52.750000  \n",
       "max     0.966000  214.058000  1.499600e+06  70.000000  "
      ]
     },
     "execution_count": 300,
     "metadata": {},
     "output_type": "execute_result"
    }
   ],
   "source": [
    "df_reggaeton.describe()"
   ]
  },
  {
   "cell_type": "code",
   "execution_count": 301,
   "metadata": {},
   "outputs": [
    {
     "name": "stdout",
     "output_type": "stream",
     "text": [
      "<class 'pandas.core.frame.DataFrame'>\n",
      "RangeIndex: 2292 entries, 0 to 2291\n",
      "Data columns (total 15 columns):\n",
      "Unnamed: 0          2292 non-null int64\n",
      "popularity          2292 non-null float64\n",
      "danceability        2292 non-null float64\n",
      "energy              2292 non-null float64\n",
      "key                 2292 non-null float64\n",
      "loudness            2292 non-null float64\n",
      "mode                2292 non-null float64\n",
      "speechiness         2292 non-null float64\n",
      "acousticness        2292 non-null float64\n",
      "instrumentalness    2292 non-null float64\n",
      "liveness            2292 non-null float64\n",
      "valence             2292 non-null float64\n",
      "tempo               2292 non-null float64\n",
      "duration            2292 non-null float64\n",
      "id_new              2292 non-null int64\n",
      "dtypes: float64(13), int64(2)\n",
      "memory usage: 268.7 KB\n"
     ]
    },
    {
     "data": {
      "text/plain": [
       "Unnamed: 0          0\n",
       "popularity          0\n",
       "danceability        0\n",
       "energy              0\n",
       "key                 0\n",
       "loudness            0\n",
       "mode                0\n",
       "speechiness         0\n",
       "acousticness        0\n",
       "instrumentalness    0\n",
       "liveness            0\n",
       "valence             0\n",
       "tempo               0\n",
       "duration            0\n",
       "id_new              0\n",
       "dtype: int64"
      ]
     },
     "execution_count": 301,
     "metadata": {},
     "output_type": "execute_result"
    }
   ],
   "source": [
    "df_consolidado = df_reggaeton.append(df_not_reggaeton,ignore_index=True)\n",
    "df_consolidado.info()\n",
    "df_consolidado.isnull().sum()\n"
   ]
  },
  {
   "cell_type": "markdown",
   "metadata": {},
   "source": [
    "Procedemos a agregar la marca según el id."
   ]
  },
  {
   "cell_type": "code",
   "execution_count": 302,
   "metadata": {
    "collapsed": true
   },
   "outputs": [],
   "source": [
    "df_consolidado['Marca'] = np.where(df_consolidado['id_new'].between(0,70),1,0)\n",
    "#1 para Reggaton 0 para todotipo"
   ]
  },
  {
   "cell_type": "code",
   "execution_count": 303,
   "metadata": {},
   "outputs": [
    {
     "name": "stdout",
     "output_type": "stream",
     "text": [
      "id_new    70\n",
      "Marca      1\n",
      "Name: 69, dtype: int64\n",
      "id_new    71\n",
      "Marca      0\n",
      "Name: 70, dtype: int64\n"
     ]
    }
   ],
   "source": [
    "print(df_consolidado[['id_new','Marca']].iloc[69])\n",
    "print(df_consolidado[['id_new','Marca']].iloc[70])\n",
    "\n"
   ]
  },
  {
   "cell_type": "markdown",
   "metadata": {},
   "source": [
    "Ahora que verificamos que la marca se ha realizado de manera correcta, procedemos a guardar los datos en un archivo CSV."
   ]
  },
  {
   "cell_type": "code",
   "execution_count": 304,
   "metadata": {
    "collapsed": true
   },
   "outputs": [],
   "source": [
    "path = os.getcwd()+'\\\\Spike+Challenge\\\\Spike Challenge\\\\df_consolidado.csv'\n",
    "#Obtenemos el directorio actual donde estamos trabajando y la agregamos a la ubicación de los datos.\n",
    "df_consolidado.to_csv(path,sep=',',index = False)"
   ]
  },
  {
   "cell_type": "code",
   "execution_count": 305,
   "metadata": {},
   "outputs": [
    {
     "data": {
      "text/html": [
       "<div>\n",
       "<style>\n",
       "    .dataframe thead tr:only-child th {\n",
       "        text-align: right;\n",
       "    }\n",
       "\n",
       "    .dataframe thead th {\n",
       "        text-align: left;\n",
       "    }\n",
       "\n",
       "    .dataframe tbody tr th {\n",
       "        vertical-align: top;\n",
       "    }\n",
       "</style>\n",
       "<table border=\"1\" class=\"dataframe\">\n",
       "  <thead>\n",
       "    <tr style=\"text-align: right;\">\n",
       "      <th></th>\n",
       "      <th>Unnamed: 0</th>\n",
       "      <th>popularity</th>\n",
       "      <th>danceability</th>\n",
       "      <th>energy</th>\n",
       "      <th>key</th>\n",
       "      <th>loudness</th>\n",
       "      <th>mode</th>\n",
       "      <th>speechiness</th>\n",
       "      <th>acousticness</th>\n",
       "      <th>instrumentalness</th>\n",
       "      <th>liveness</th>\n",
       "      <th>valence</th>\n",
       "      <th>tempo</th>\n",
       "      <th>duration</th>\n",
       "      <th>id_new</th>\n",
       "      <th>Marca</th>\n",
       "    </tr>\n",
       "  </thead>\n",
       "  <tbody>\n",
       "    <tr>\n",
       "      <th>0</th>\n",
       "      <td>1</td>\n",
       "      <td>68.0</td>\n",
       "      <td>0.826</td>\n",
       "      <td>0.704</td>\n",
       "      <td>9.0</td>\n",
       "      <td>-7.527</td>\n",
       "      <td>1.0</td>\n",
       "      <td>0.1170</td>\n",
       "      <td>0.1890</td>\n",
       "      <td>0.000048</td>\n",
       "      <td>0.0617</td>\n",
       "      <td>0.741</td>\n",
       "      <td>94.013</td>\n",
       "      <td>205000.0</td>\n",
       "      <td>1</td>\n",
       "      <td>1</td>\n",
       "    </tr>\n",
       "    <tr>\n",
       "      <th>1</th>\n",
       "      <td>2</td>\n",
       "      <td>61.0</td>\n",
       "      <td>0.641</td>\n",
       "      <td>0.693</td>\n",
       "      <td>8.0</td>\n",
       "      <td>-7.327</td>\n",
       "      <td>1.0</td>\n",
       "      <td>0.1630</td>\n",
       "      <td>0.0169</td>\n",
       "      <td>0.000000</td>\n",
       "      <td>0.2190</td>\n",
       "      <td>0.899</td>\n",
       "      <td>214.058</td>\n",
       "      <td>184413.0</td>\n",
       "      <td>2</td>\n",
       "      <td>1</td>\n",
       "    </tr>\n",
       "    <tr>\n",
       "      <th>2</th>\n",
       "      <td>3</td>\n",
       "      <td>67.0</td>\n",
       "      <td>0.771</td>\n",
       "      <td>0.815</td>\n",
       "      <td>1.0</td>\n",
       "      <td>-5.423</td>\n",
       "      <td>0.0</td>\n",
       "      <td>0.0719</td>\n",
       "      <td>0.1610</td>\n",
       "      <td>0.000020</td>\n",
       "      <td>0.1890</td>\n",
       "      <td>0.524</td>\n",
       "      <td>94.016</td>\n",
       "      <td>205520.0</td>\n",
       "      <td>3</td>\n",
       "      <td>1</td>\n",
       "    </tr>\n",
       "    <tr>\n",
       "      <th>3</th>\n",
       "      <td>4</td>\n",
       "      <td>63.0</td>\n",
       "      <td>0.743</td>\n",
       "      <td>0.787</td>\n",
       "      <td>1.0</td>\n",
       "      <td>-5.402</td>\n",
       "      <td>1.0</td>\n",
       "      <td>0.2620</td>\n",
       "      <td>0.0352</td>\n",
       "      <td>0.000000</td>\n",
       "      <td>0.0732</td>\n",
       "      <td>0.719</td>\n",
       "      <td>192.117</td>\n",
       "      <td>172680.0</td>\n",
       "      <td>4</td>\n",
       "      <td>1</td>\n",
       "    </tr>\n",
       "    <tr>\n",
       "      <th>4</th>\n",
       "      <td>5</td>\n",
       "      <td>63.0</td>\n",
       "      <td>0.876</td>\n",
       "      <td>0.692</td>\n",
       "      <td>10.0</td>\n",
       "      <td>-6.429</td>\n",
       "      <td>1.0</td>\n",
       "      <td>0.1040</td>\n",
       "      <td>0.1280</td>\n",
       "      <td>0.000000</td>\n",
       "      <td>0.2490</td>\n",
       "      <td>0.757</td>\n",
       "      <td>95.032</td>\n",
       "      <td>227280.0</td>\n",
       "      <td>5</td>\n",
       "      <td>1</td>\n",
       "    </tr>\n",
       "  </tbody>\n",
       "</table>\n",
       "</div>"
      ],
      "text/plain": [
       "   Unnamed: 0  popularity  danceability  energy   key  loudness  mode  \\\n",
       "0           1        68.0         0.826   0.704   9.0    -7.527   1.0   \n",
       "1           2        61.0         0.641   0.693   8.0    -7.327   1.0   \n",
       "2           3        67.0         0.771   0.815   1.0    -5.423   0.0   \n",
       "3           4        63.0         0.743   0.787   1.0    -5.402   1.0   \n",
       "4           5        63.0         0.876   0.692  10.0    -6.429   1.0   \n",
       "\n",
       "   speechiness  acousticness  instrumentalness  liveness  valence    tempo  \\\n",
       "0       0.1170        0.1890          0.000048    0.0617    0.741   94.013   \n",
       "1       0.1630        0.0169          0.000000    0.2190    0.899  214.058   \n",
       "2       0.0719        0.1610          0.000020    0.1890    0.524   94.016   \n",
       "3       0.2620        0.0352          0.000000    0.0732    0.719  192.117   \n",
       "4       0.1040        0.1280          0.000000    0.2490    0.757   95.032   \n",
       "\n",
       "   duration  id_new  Marca  \n",
       "0  205000.0       1      1  \n",
       "1  184413.0       2      1  \n",
       "2  205520.0       3      1  \n",
       "3  172680.0       4      1  \n",
       "4  227280.0       5      1  "
      ]
     },
     "execution_count": 305,
     "metadata": {},
     "output_type": "execute_result"
    }
   ],
   "source": [
    "#Solo para confirmar la integridad de los datos vamos a leer los datos desde el archivo CSV que creamos.\n",
    "df_datos = pd.read_csv('Spike+Challenge\\\\Spike Challenge\\\\df_consolidado.csv')\n",
    "df_datos.head()"
   ]
  },
  {
   "cell_type": "markdown",
   "metadata": {},
   "source": [
    "Podemos concliur de este ejercicio que la limpieza y homegeneidad de los datos nos ayuda a tener datos uniformes listos para el procesamiento.\n",
    "\n",
    "# La tercera y cuarta parte del SpikeChallenge estará dividida en partes, donde entrenaremos el modelo y seguidamente lo evaluaremos.\n",
    "\n",
    "\n",
    "En esta parte del desafio debemos entrenar uno o más modelos para clasificar si una canción es reggaeton o no según los parametros dados por spotify\n",
    "\n",
    "# Entrenamiento del modelo : Decision Tree"
   ]
  },
  {
   "cell_type": "code",
   "execution_count": 306,
   "metadata": {
    "collapsed": true
   },
   "outputs": [],
   "source": [
    "train_data,test_data = train_test_split(df_datos,test_size = 0.20)\n",
    "#Primero dividimos nuestros datos en Train data y test data"
   ]
  },
  {
   "cell_type": "code",
   "execution_count": 307,
   "metadata": {},
   "outputs": [],
   "source": [
    "classifier = DecisionTreeClassifier(min_samples_split=150,class_weight='balanced')\n",
    "atributos = ['acousticness','danceability','energy','speechiness','liveness','tempo','loudness']\n",
    "#De acuerdo a las gráficas tomamos los valores más relevantes según nuestro criterio.\n",
    "\n",
    "x_train = train_data[atributos]\n",
    "y_train = train_data['Marca']\n",
    "\n",
    "x_test = test_data[atributos]\n",
    "y_test = test_data['Marca']\n",
    "\n",
    "#Seleccionamos los atributos necesarios para la clasificación y el target o marca que queremos clasificar.\n",
    "\n",
    "arbol = classifier.fit(x_train,y_train)\n",
    "\n",
    "y_pred = classifier.predict(x_test)"
   ]
  },
  {
   "cell_type": "markdown",
   "metadata": {},
   "source": [
    "# Evaluación, Decision Tree "
   ]
  },
  {
   "cell_type": "code",
   "execution_count": 308,
   "metadata": {},
   "outputs": [
    {
     "name": "stdout",
     "output_type": "stream",
     "text": [
      "La exactitud del clasificador es de :  85.84 %\n"
     ]
    }
   ],
   "source": [
    "exactitud = accuracy_score(y_test,y_pred) * 100\n",
    "print('La exactitud del clasificador es de : ', exactitud.round(2),'%')\n"
   ]
  },
  {
   "cell_type": "markdown",
   "metadata": {},
   "source": [
    "Con esa medida solamente sabemos que el 97% de nuestras predicciones correctas, pero no nos dicen nada más, una manera muy conveniente de ver el perfomance es con una matriz de confusión. Los valores en la diagonal representan valores predecidos correctamente, y fuera de la diagonal falsos positivos o falsos negativos"
   ]
  },
  {
   "cell_type": "code",
   "execution_count": 354,
   "metadata": {},
   "outputs": [
    {
     "name": "stdout",
     "output_type": "stream",
     "text": [
      "             precision    recall  f1-score   support\n",
      "\n",
      "          0       1.00      0.86      0.92       449\n",
      "          1       0.12      0.90      0.22        10\n",
      "\n",
      "avg / total       0.98      0.86      0.91       459\n",
      "\n"
     ]
    },
    {
     "data": {
      "image/png": "[encoded data removed]",
      "text/plain": [
       "<matplotlib.figure.Figure at 0x2164f1620b8>"
      ]
     },
     "metadata": {},
     "output_type": "display_data"
    }
   ],
   "source": [
    "from sklearn.metrics import confusion_matrix\n",
    "\n",
    "confusion = pd.DataFrame(confusion_matrix(y_test,y_pred),columns=['Todo Tipo','Reggaeton'],index =['Todo Tipo','Reggaeton'])\n",
    "sns.heatmap(confusion, annot = True)\n",
    "report_dt = classification_report(y_test,y_pred)\n",
    "print(report_dt)"
   ]
  },
  {
   "cell_type": "markdown",
   "metadata": {},
   "source": [
    "Con esta matriz podemos observar, que el clasificador predijo correctamente cuando los valores no eran Reggaeton, pero tiene problemas detectando canciones que son reggaeton, ya que de 9 canciones en el data set test, solo predijo correctamente 5 canciones. Con 4 falsos negativos, y 6 falsos positivos. Con esta metrica vemos que a pesar de obtener un acuraccy de 97% el algoritmo posiblemente no sea optimo para la clasificación de reggaeton, sin embargo, al realizar pruebas en dataset aislados, logró predecir correctamente más del 96% de las predicciones. Este algoritmo es facil de aplicar y además no necesita de tanto trabajo con los datos, lo que nos puede ayudar a realizar prototipos rápidos con nuestros datos. Una de las formas de mejorar el performance del modelo, sería teniendo un dataset mejor distribuido, donde existe mayor número de canciones de reggaeton y así el modelo discrimine mejor entre las dos clases, según articulo web ubicado en https://es.wikipedia.org/wiki/Matriz_de_confusi%C3%B3n\n",
    "\n",
    "<blockquote> \"Si en los datos de entrada el número de muestras de clases diferentes cambia mucho la tasa de error del clasificador no es representativa de lo bien que realiza la tarea el clasificador. Si por ejemplo hay 990 muestras de la clase 1 y sólo 10 de la clase 2, el clasificador puede tener fácilmente un sesgo hacia la clase 1. Si el clasificador clasifica todas las muestras como clase 1 su precisión será del 99%. Esto no significa que sea un buen clasificador, pues tuvo un 100% de error en la clasificación de las muestras de la clase 2\"</blockquote>\n",
    "\n",
    "Ahora como usaremos random forest, apoyandonos nuevamente en la librería Sckit\n",
    "\n",
    "# Entrenamiento modelo: Random Forest\n",
    "A continuacion usaremos random forest para realizar la clasificación."
   ]
  },
  {
   "cell_type": "code",
   "execution_count": 310,
   "metadata": {
    "collapsed": true
   },
   "outputs": [],
   "source": [
    "from sklearn.ensemble import RandomForestClassifier\n",
    "\n",
    "random_f = RandomForestClassifier(n_estimators = 1000, oob_score=True,random_state=12356,min_samples_split=105)"
   ]
  },
  {
   "cell_type": "code",
   "execution_count": 325,
   "metadata": {},
   "outputs": [],
   "source": [
    "ros = RandomOverSampler(random_state=42)\n",
    "X_res, y_res = ros.fit_sample(x_train, y_train)\n",
    "\n"
   ]
  },
  {
   "cell_type": "code",
   "execution_count": 326,
   "metadata": {},
   "outputs": [
    {
     "data": {
      "text/plain": [
       "RandomForestClassifier(bootstrap=True, class_weight=None, criterion='gini',\n",
       "            max_depth=None, max_features='auto', max_leaf_nodes=None,\n",
       "            min_impurity_decrease=0.0, min_impurity_split=None,\n",
       "            min_samples_leaf=1, min_samples_split=105,\n",
       "            min_weight_fraction_leaf=0.0, n_estimators=1000, n_jobs=1,\n",
       "            oob_score=True, random_state=12356, verbose=0,\n",
       "            warm_start=False)"
      ]
     },
     "execution_count": 326,
     "metadata": {},
     "output_type": "execute_result"
    }
   ],
   "source": [
    "random_f.fit(X_res, y_res)"
   ]
  },
  {
   "cell_type": "code",
   "execution_count": 327,
   "metadata": {},
   "outputs": [
    {
     "name": "stdout",
     "output_type": "stream",
     "text": [
      "[0 0 0 0 0 0 0 0 0 0 0 0 0 0 0 0 0 0 0 0 0 0 0 0 0 0 0 0 0 0 0 0 0 0 0 0 0\n",
      " 0 0 0 0 0 0 0 0 0 0 0 0 0 0 0 0 0 0 0 0 0 0 0 0 0 0 0 0 0 0 0 0 0 0 0 0 1\n",
      " 0 0 0 0 0 0 0 0 0 0 0 0 0 0 0 0 0 0 0 0 0 0 0 0 0 0 0 0 0 0 0 0 0 0 0 0 0\n",
      " 0 0 0 0 0 0 0 0 0 0 0 0 0 0 0 0 0 0 0 0 0 0 0 0 0 0 0 0 0 0 0 0 0 0 0 0 0\n",
      " 0 0 0 0 0 0 1 0 0 0 0 0 0 0 0 0 0 0 0 1 0 0 0 0 0 0 0 1 0 0 0 0 0 0 0 0 0\n",
      " 1 0 0 0 0 0 0 0 0 0 0 0 0 0 0 1 0 0 0 0 0 0 0 0 0 0 0 0 0 0 0 0 0 0 0 1 0\n",
      " 0 0 0 0 0 0 0 0 0 0 0 0 0 0 0 0 0 0 0 0 0 0 0 0 0 0 0 0 0 0 0 0 0 0 1 0 0\n",
      " 0 0 0 0 0 0 0 0 0 0 0 0 0 0 0 0 0 0 0 0 0 0 0 0 0 1 0 0 0 0 0 0 0 0 0 0 0\n",
      " 0 0 0 0 0 0 0 0 0 1 0 0 0 1 0 0 0 0 0 0 0 0 0 0 0 0 0 0 0 0 1 0 0 0 0 0 0\n",
      " 0 0 0 0 0 0 0 1 0 0 0 0 0 0 0 0 0 0 0 0 0 0 0 0 0 0 0 0 0 0 0 0 0 0 0 0 0\n",
      " 0 0 0 0 0 0 0 0 0 0 0 0 0 0 0 0 0 0 0 0 0 0 0 0 0 0 0 0 0 0 0 0 0 0 0 0 0\n",
      " 0 0 0 0 0 0 0 0 0 0 0 0 0 0 0 0 0 0 0 0 0 0 0 0 0 0 0 0 1 0 0 0 0 0 0 0 0\n",
      " 0 0 0 0 0 0 0 0 0 0 0 0 0 0 0]\n"
     ]
    }
   ],
   "source": [
    "predicted = random_f.predict(x_test)\n",
    "print(predicted)"
   ]
  },
  {
   "cell_type": "code",
   "execution_count": 328,
   "metadata": {},
   "outputs": [
    {
     "name": "stdout",
     "output_type": "stream",
     "text": [
      "La exactitud del clasificador es de :  97.82 %\n"
     ]
    }
   ],
   "source": [
    "accuracy = accuracy_score(y_test,predicted)*100\n",
    "print('La exactitud del clasificador es de : ', accuracy.round(2),'%')"
   ]
  },
  {
   "cell_type": "code",
   "execution_count": 329,
   "metadata": {},
   "outputs": [
    {
     "data": {
      "text/plain": [
       "<matplotlib.axes._subplots.AxesSubplot at 0x2164e45ff28>"
      ]
     },
     "execution_count": 329,
     "metadata": {},
     "output_type": "execute_result"
    },
    {
     "data": {
      "image/png": "[encoded data removed]",
      "text/plain": [
       "<matplotlib.figure.Figure at 0x2164ecad940>"
      ]
     },
     "metadata": {},
     "output_type": "display_data"
    }
   ],
   "source": [
    "confusion2 = pd.DataFrame(confusion_matrix(y_test,predicted),columns=['Todo Tipo','Reggaeton'],index =['Todo Tipo','Reggaeton'])\n",
    "sns.heatmap(confusion2, annot = True)"
   ]
  },
  {
   "cell_type": "code",
   "execution_count": 330,
   "metadata": {},
   "outputs": [
    {
     "name": "stdout",
     "output_type": "stream",
     "text": [
      "0.8422048997772829\n",
      "             precision    recall  f1-score   support\n",
      "\n",
      "          0       0.99      0.98      0.99       449\n",
      "          1       0.50      0.70      0.58        10\n",
      "\n",
      "avg / total       0.98      0.98      0.98       459\n",
      "\n"
     ]
    }
   ],
   "source": [
    "from sklearn.metrics import roc_auc_score\n",
    "\n",
    "print(roc_auc_score(y_test,predicted))\n",
    "\n",
    "report = classification_report(y_test,predicted)\n",
    "print(report)\n"
   ]
  },
  {
   "cell_type": "markdown",
   "metadata": {},
   "source": [
    "# Evaluacion modelo Random Forest\n",
    "\n",
    " Con el algoritmo Random Forest, que puede decirse es una version mejorada de decision Tree, vemos mejor performance del modelo, sin embargo, la cantidad de falsos negativos puede preocuparnos, ya que representan un alto porcentaje . Para manejar el problema de las clases inbalanceadas, se usó una libreria que permite hacer oversampling sobre la clase minoritaria. Nuevamente utilizamos la matriz de confusion para evaluar el performance del modelo, usamos está ya que nos permite comparar la diferencia con el modelo anterior, además que nos dá información muy importante sobre lo que ocurre en el momento de la clasificación. Con la clase clasification_report obtenemos metricas muy importante, que nos permite evaluar claramente que tanto está acertando nuestro modelo. \n",
    "\n",
    "Este algoritmo se eligió por que es uno de los algoritmos más faciles de entender como funcionan, además que proporciona bastante robustez al momento de las predicciones.\n",
    "\n",
    "Para mejorar la performance, es necesario aplicar metodos para normalizar los atributos así como optimizar los parametros del clasificador."
   ]
  },
  {
   "cell_type": "markdown",
   "metadata": {},
   "source": [
    "\n",
    "# Conclusiones generales\n",
    "\n",
    "Con los 2 modelos de Machine Learning obtuvimos problemas prediciendo las canciones de reggaeton, es mi parecer que esto se debe a que las clases estan inbalanceadas, teniendo solo el 3% de los datos siendo reggaeton. Es por esto que decidí realizar el siguiente experimento:\n",
    "\n",
    "- A continuacion usaremos el algoritmo random forest con un data set más balanceado:\n"
   ]
  },
  {
   "cell_type": "code",
   "execution_count": 355,
   "metadata": {
    "collapsed": true
   },
   "outputs": [],
   "source": [
    "df_balanceado = df_reggaeton.append(df_not_reggaeton.iloc[0:200],ignore_index=True)\n",
    "#solo agregamos 111 datos del dataFrame df_not_reggaeton\n",
    "df_balanceado['Marca'] = np.where(df_balanceado['id_new'].between(0,70),1,0)\n",
    "\n",
    "\n"
   ]
  },
  {
   "cell_type": "code",
   "execution_count": 356,
   "metadata": {},
   "outputs": [
    {
     "name": "stdout",
     "output_type": "stream",
     "text": [
      "             precision    recall  f1-score   support\n",
      "\n",
      "          0       0.95      0.97      0.96        39\n",
      "          1       0.93      0.87      0.90        15\n",
      "\n",
      "avg / total       0.94      0.94      0.94        54\n",
      "\n"
     ]
    },
    {
     "data": {
      "text/plain": [
       "<matplotlib.axes._subplots.AxesSubplot at 0x2164e49d240>"
      ]
     },
     "execution_count": 356,
     "metadata": {},
     "output_type": "execute_result"
    },
    {
     "data": {
      "image/png": "[encoded data removed]",
      "text/plain": [
       "<matplotlib.figure.Figure at 0x2164ed03160>"
      ]
     },
     "metadata": {},
     "output_type": "display_data"
    }
   ],
   "source": [
    "train_data_balanceado ,test_data_balanceado = train_test_split(df_balanceado,test_size = 0.20)\n",
    "\n",
    "x_train_balanceado = train_data_balanceado[atributos]\n",
    "y_train_balanceado = train_data_balanceado['Marca']\n",
    "\n",
    "x_test_balanceado = test_data_balanceado[atributos]\n",
    "y_test_balanceado = test_data_balanceado['Marca']\n",
    "\n",
    "random_forest_balance = RandomForestClassifier(n_estimators = 500, oob_score=False,random_state=123456,min_samples_split=50)\n",
    "\n",
    "random_forest_balance.fit(x_train_balanceado,y_train_balanceado)\n",
    "predicted1 = random_forest_balance.predict(x_test_balanceado)\n",
    "predicted1\n",
    "report = classification_report(y_test_balanceado,predicted1)\n",
    "print(report)\n",
    "\n",
    "matriz_balanceada = pd.DataFrame(confusion_matrix(y_test_balanceado,predicted1),columns=['Todo Tipo','Reggaeton'],index =['Todo Tipo','Reggaeton'])\n",
    "sns.heatmap(matriz_balanceada, annot = True)\n",
    "\n"
   ]
  },
  {
   "cell_type": "code",
   "execution_count": 357,
   "metadata": {},
   "outputs": [
    {
     "name": "stdout",
     "output_type": "stream",
     "text": [
      "La exactitud del modelo es de :  94.44 %\n",
      "             precision    recall  f1-score   support\n",
      "\n",
      "          0       0.95      0.97      0.96        39\n",
      "          1       0.93      0.87      0.90        15\n",
      "\n",
      "avg / total       0.94      0.94      0.94        54\n",
      "\n"
     ]
    }
   ],
   "source": [
    "efectividad = accuracy_score(y_test_balanceado,predicted1) * 100\n",
    "print('La exactitud del modelo es de : ',efectividad.round(2),'%')\n",
    "reportee = classification_report(y_test_balanceado,predicted1)\n",
    "print(reportee)"
   ]
  },
  {
   "cell_type": "markdown",
   "metadata": {},
   "source": [
    "Si bien, su efectividad se mantiene, vemos que con la matriz de confusion, podemos ver una prediccion correcta de los datos. Esto nos indica que existe un sesgo positivo con los datos anteriores, pero, debido a la cantidad de datos, la probabilidad de overfit es grande."
   ]
  },
  {
   "cell_type": "code",
   "execution_count": 358,
   "metadata": {},
   "outputs": [
    {
     "data": {
      "text/plain": [
       "Unnamed: 0          178\n",
       "popularity          178\n",
       "danceability        178\n",
       "energy              178\n",
       "key                 178\n",
       "loudness            178\n",
       "mode                178\n",
       "speechiness         178\n",
       "acousticness        178\n",
       "instrumentalness    178\n",
       "liveness            178\n",
       "valence             178\n",
       "tempo               178\n",
       "duration            178\n",
       "id_new              178\n",
       "predicion           178\n",
       "dtype: int64"
      ]
     },
     "execution_count": 358,
     "metadata": {},
     "output_type": "execute_result"
    }
   ],
   "source": [
    "predic_reggaeton = random_forest_balance.predict(df_not_reggaeton[atributos])\n",
    "df_not_reggaeton['predicion']=predic_reggaeton\n",
    "df_not_reggaeton[df_not_reggaeton['predicion']==1].count()"
   ]
  },
  {
   "cell_type": "markdown",
   "metadata": {},
   "source": [
    "Vemos que para el DataSet todo tipo la performance fue muy pobre, ya que en el dataSet todotipo (No reggaeton) predijo 215 resultados incorrectos, esto debido al overfit que mencioné anteriormente."
   ]
  },
  {
   "cell_type": "markdown",
   "metadata": {},
   "source": [
    "# Quinta parte del desafio, aplicar el modelo al dataSet data_test\n",
    "\n",
    "En esta parte del desafio debemos aplicar el modelo elegido al data_test, despúes  de varios experimentos, y ya que tiene las metricas con mejor performance elegí usar random forest para la prediccion del data test.\n"
   ]
  },
  {
   "cell_type": "code",
   "execution_count": 359,
   "metadata": {},
   "outputs": [
    {
     "name": "stdout",
     "output_type": "stream",
     "text": [
      "<class 'pandas.core.frame.DataFrame'>\n",
      "RangeIndex: 50 entries, 0 to 49\n",
      "Data columns (total 18 columns):\n",
      "Unnamed: 0                 50 non-null int64\n",
      "popularity                 50 non-null int64\n",
      "danceability               50 non-null float64\n",
      "energy                     50 non-null float64\n",
      "key                        50 non-null int64\n",
      "loudness                   50 non-null float64\n",
      "mode                       50 non-null int64\n",
      "speechiness                50 non-null float64\n",
      "acousticness               50 non-null float64\n",
      "instrumentalness           50 non-null float64\n",
      "liveness                   50 non-null float64\n",
      "valence                    50 non-null float64\n",
      "tempo                      50 non-null float64\n",
      "duration                   50 non-null int64\n",
      "time_signature             50 non-null int64\n",
      "id_new                     50 non-null int64\n",
      "marca_reggaeton            50 non-null int64\n",
      "probabilidad_reggaeton     50 non-null float64\n",
      "dtypes: float64(10), int64(8)\n",
      "memory usage: 7.1 KB\n"
     ]
    }
   ],
   "source": [
    "#primero cargamos el archivo csv\n",
    "\n",
    "df_data_test = pd.read_csv('Spike+Challenge\\Spike Challenge\\data_test.csv')\n",
    "\n",
    "df_data_test.info()"
   ]
  },
  {
   "cell_type": "code",
   "execution_count": 360,
   "metadata": {
    "collapsed": true
   },
   "outputs": [],
   "source": [
    "prediccion = random_f.predict(df_data_test[atributos])\n",
    "#Realizamos la prediccion \n",
    "\n",
    "proba_prediccion = random_f.predict_proba(df_data_test[atributos])\n",
    "#Realizamos la probabilidad de prediccion de cada clase, y damos gracias a los metodos de scikitLearn!!"
   ]
  },
  {
   "cell_type": "code",
   "execution_count": 361,
   "metadata": {
    "scrolled": false
   },
   "outputs": [],
   "source": [
    "df_data_test['marca_reggaeton'] = prediccion\n",
    "\n",
    "probabilidad = proba_prediccion[:,1] * 100\n",
    "\n",
    "df_data_test['probabilidad_reggaeton '] = probabilidad.round(2)\n",
    "\n",
    "\n",
    "path = os.getcwd()+'\\\\Spike+Challenge\\\\Spike Challenge\\\\data_test.csv'\n",
    "\n",
    "df_data_test.to_csv(path,sep=',',index=False)\n"
   ]
  },
  {
   "cell_type": "code",
   "execution_count": 362,
   "metadata": {},
   "outputs": [
    {
     "data": {
      "text/html": [
       "<div>\n",
       "<style>\n",
       "    .dataframe thead tr:only-child th {\n",
       "        text-align: right;\n",
       "    }\n",
       "\n",
       "    .dataframe thead th {\n",
       "        text-align: left;\n",
       "    }\n",
       "\n",
       "    .dataframe tbody tr th {\n",
       "        vertical-align: top;\n",
       "    }\n",
       "</style>\n",
       "<table border=\"1\" class=\"dataframe\">\n",
       "  <thead>\n",
       "    <tr style=\"text-align: right;\">\n",
       "      <th></th>\n",
       "      <th>Unnamed: 0</th>\n",
       "      <th>popularity</th>\n",
       "      <th>danceability</th>\n",
       "      <th>energy</th>\n",
       "      <th>key</th>\n",
       "      <th>loudness</th>\n",
       "      <th>mode</th>\n",
       "      <th>speechiness</th>\n",
       "      <th>acousticness</th>\n",
       "      <th>instrumentalness</th>\n",
       "      <th>liveness</th>\n",
       "      <th>valence</th>\n",
       "      <th>tempo</th>\n",
       "      <th>duration</th>\n",
       "      <th>time_signature</th>\n",
       "      <th>id_new</th>\n",
       "      <th>marca_reggaeton</th>\n",
       "      <th>probabilidad_reggaeton</th>\n",
       "    </tr>\n",
       "  </thead>\n",
       "  <tbody>\n",
       "    <tr>\n",
       "      <th>0</th>\n",
       "      <td>1</td>\n",
       "      <td>60</td>\n",
       "      <td>0.607</td>\n",
       "      <td>0.875</td>\n",
       "      <td>0</td>\n",
       "      <td>-4.434</td>\n",
       "      <td>1</td>\n",
       "      <td>0.0605</td>\n",
       "      <td>0.001140</td>\n",
       "      <td>0.007650</td>\n",
       "      <td>0.4670</td>\n",
       "      <td>0.4570</td>\n",
       "      <td>131.058</td>\n",
       "      <td>264520</td>\n",
       "      <td>4</td>\n",
       "      <td>2301</td>\n",
       "      <td>0</td>\n",
       "      <td>8.16</td>\n",
       "    </tr>\n",
       "    <tr>\n",
       "      <th>1</th>\n",
       "      <td>2</td>\n",
       "      <td>69</td>\n",
       "      <td>0.757</td>\n",
       "      <td>0.868</td>\n",
       "      <td>9</td>\n",
       "      <td>-9.326</td>\n",
       "      <td>1</td>\n",
       "      <td>0.0620</td>\n",
       "      <td>0.411000</td>\n",
       "      <td>0.002210</td>\n",
       "      <td>0.3550</td>\n",
       "      <td>0.8150</td>\n",
       "      <td>138.923</td>\n",
       "      <td>199200</td>\n",
       "      <td>4</td>\n",
       "      <td>2302</td>\n",
       "      <td>0</td>\n",
       "      <td>16.87</td>\n",
       "    </tr>\n",
       "    <tr>\n",
       "      <th>2</th>\n",
       "      <td>3</td>\n",
       "      <td>88</td>\n",
       "      <td>0.791</td>\n",
       "      <td>0.866</td>\n",
       "      <td>6</td>\n",
       "      <td>-4.236</td>\n",
       "      <td>1</td>\n",
       "      <td>0.0497</td>\n",
       "      <td>0.248000</td>\n",
       "      <td>0.000005</td>\n",
       "      <td>0.0696</td>\n",
       "      <td>0.7100</td>\n",
       "      <td>96.011</td>\n",
       "      <td>217080</td>\n",
       "      <td>4</td>\n",
       "      <td>2303</td>\n",
       "      <td>1</td>\n",
       "      <td>61.57</td>\n",
       "    </tr>\n",
       "    <tr>\n",
       "      <th>3</th>\n",
       "      <td>4</td>\n",
       "      <td>70</td>\n",
       "      <td>0.589</td>\n",
       "      <td>0.484</td>\n",
       "      <td>7</td>\n",
       "      <td>-6.622</td>\n",
       "      <td>1</td>\n",
       "      <td>0.0266</td>\n",
       "      <td>0.489000</td>\n",
       "      <td>0.000000</td>\n",
       "      <td>0.1130</td>\n",
       "      <td>0.0927</td>\n",
       "      <td>120.258</td>\n",
       "      <td>269973</td>\n",
       "      <td>4</td>\n",
       "      <td>2304</td>\n",
       "      <td>0</td>\n",
       "      <td>0.57</td>\n",
       "    </tr>\n",
       "    <tr>\n",
       "      <th>4</th>\n",
       "      <td>5</td>\n",
       "      <td>61</td>\n",
       "      <td>0.617</td>\n",
       "      <td>0.771</td>\n",
       "      <td>10</td>\n",
       "      <td>-5.586</td>\n",
       "      <td>0</td>\n",
       "      <td>0.1120</td>\n",
       "      <td>0.038400</td>\n",
       "      <td>0.000003</td>\n",
       "      <td>0.1620</td>\n",
       "      <td>0.5530</td>\n",
       "      <td>180.002</td>\n",
       "      <td>267747</td>\n",
       "      <td>4</td>\n",
       "      <td>2305</td>\n",
       "      <td>0</td>\n",
       "      <td>8.52</td>\n",
       "    </tr>\n",
       "    <tr>\n",
       "      <th>5</th>\n",
       "      <td>6</td>\n",
       "      <td>75</td>\n",
       "      <td>0.502</td>\n",
       "      <td>0.972</td>\n",
       "      <td>10</td>\n",
       "      <td>-3.960</td>\n",
       "      <td>0</td>\n",
       "      <td>0.0793</td>\n",
       "      <td>0.000068</td>\n",
       "      <td>0.000702</td>\n",
       "      <td>0.0627</td>\n",
       "      <td>0.7290</td>\n",
       "      <td>138.019</td>\n",
       "      <td>197280</td>\n",
       "      <td>4</td>\n",
       "      <td>2306</td>\n",
       "      <td>0</td>\n",
       "      <td>1.63</td>\n",
       "    </tr>\n",
       "    <tr>\n",
       "      <th>6</th>\n",
       "      <td>7</td>\n",
       "      <td>60</td>\n",
       "      <td>0.828</td>\n",
       "      <td>0.642</td>\n",
       "      <td>1</td>\n",
       "      <td>-7.399</td>\n",
       "      <td>1</td>\n",
       "      <td>0.0821</td>\n",
       "      <td>0.306000</td>\n",
       "      <td>0.000714</td>\n",
       "      <td>0.1030</td>\n",
       "      <td>0.5450</td>\n",
       "      <td>97.986</td>\n",
       "      <td>217966</td>\n",
       "      <td>4</td>\n",
       "      <td>2307</td>\n",
       "      <td>0</td>\n",
       "      <td>48.78</td>\n",
       "    </tr>\n",
       "    <tr>\n",
       "      <th>7</th>\n",
       "      <td>8</td>\n",
       "      <td>71</td>\n",
       "      <td>0.770</td>\n",
       "      <td>0.790</td>\n",
       "      <td>10</td>\n",
       "      <td>-5.453</td>\n",
       "      <td>0</td>\n",
       "      <td>0.0814</td>\n",
       "      <td>0.139000</td>\n",
       "      <td>0.000000</td>\n",
       "      <td>0.0829</td>\n",
       "      <td>0.8720</td>\n",
       "      <td>93.970</td>\n",
       "      <td>195453</td>\n",
       "      <td>4</td>\n",
       "      <td>2308</td>\n",
       "      <td>1</td>\n",
       "      <td>96.91</td>\n",
       "    </tr>\n",
       "    <tr>\n",
       "      <th>8</th>\n",
       "      <td>9</td>\n",
       "      <td>73</td>\n",
       "      <td>0.547</td>\n",
       "      <td>0.691</td>\n",
       "      <td>4</td>\n",
       "      <td>-13.553</td>\n",
       "      <td>0</td>\n",
       "      <td>0.0369</td>\n",
       "      <td>0.015000</td>\n",
       "      <td>0.105000</td>\n",
       "      <td>0.1440</td>\n",
       "      <td>0.6670</td>\n",
       "      <td>137.148</td>\n",
       "      <td>261933</td>\n",
       "      <td>4</td>\n",
       "      <td>2309</td>\n",
       "      <td>0</td>\n",
       "      <td>1.22</td>\n",
       "    </tr>\n",
       "    <tr>\n",
       "      <th>9</th>\n",
       "      <td>10</td>\n",
       "      <td>76</td>\n",
       "      <td>0.613</td>\n",
       "      <td>0.873</td>\n",
       "      <td>7</td>\n",
       "      <td>-6.376</td>\n",
       "      <td>0</td>\n",
       "      <td>0.0449</td>\n",
       "      <td>0.003970</td>\n",
       "      <td>0.001110</td>\n",
       "      <td>0.3670</td>\n",
       "      <td>0.3920</td>\n",
       "      <td>129.989</td>\n",
       "      <td>234813</td>\n",
       "      <td>4</td>\n",
       "      <td>2310</td>\n",
       "      <td>0</td>\n",
       "      <td>4.25</td>\n",
       "    </tr>\n",
       "  </tbody>\n",
       "</table>\n",
       "</div>"
      ],
      "text/plain": [
       "   Unnamed: 0  popularity  danceability  energy  key  loudness  mode  \\\n",
       "0           1          60         0.607   0.875    0    -4.434     1   \n",
       "1           2          69         0.757   0.868    9    -9.326     1   \n",
       "2           3          88         0.791   0.866    6    -4.236     1   \n",
       "3           4          70         0.589   0.484    7    -6.622     1   \n",
       "4           5          61         0.617   0.771   10    -5.586     0   \n",
       "5           6          75         0.502   0.972   10    -3.960     0   \n",
       "6           7          60         0.828   0.642    1    -7.399     1   \n",
       "7           8          71         0.770   0.790   10    -5.453     0   \n",
       "8           9          73         0.547   0.691    4   -13.553     0   \n",
       "9          10          76         0.613   0.873    7    -6.376     0   \n",
       "\n",
       "   speechiness  acousticness  instrumentalness  liveness  valence    tempo  \\\n",
       "0       0.0605      0.001140          0.007650    0.4670   0.4570  131.058   \n",
       "1       0.0620      0.411000          0.002210    0.3550   0.8150  138.923   \n",
       "2       0.0497      0.248000          0.000005    0.0696   0.7100   96.011   \n",
       "3       0.0266      0.489000          0.000000    0.1130   0.0927  120.258   \n",
       "4       0.1120      0.038400          0.000003    0.1620   0.5530  180.002   \n",
       "5       0.0793      0.000068          0.000702    0.0627   0.7290  138.019   \n",
       "6       0.0821      0.306000          0.000714    0.1030   0.5450   97.986   \n",
       "7       0.0814      0.139000          0.000000    0.0829   0.8720   93.970   \n",
       "8       0.0369      0.015000          0.105000    0.1440   0.6670  137.148   \n",
       "9       0.0449      0.003970          0.001110    0.3670   0.3920  129.989   \n",
       "\n",
       "   duration  time_signature  id_new  marca_reggaeton  probabilidad_reggaeton   \n",
       "0    264520               4    2301                0                     8.16  \n",
       "1    199200               4    2302                0                    16.87  \n",
       "2    217080               4    2303                1                    61.57  \n",
       "3    269973               4    2304                0                     0.57  \n",
       "4    267747               4    2305                0                     8.52  \n",
       "5    197280               4    2306                0                     1.63  \n",
       "6    217966               4    2307                0                    48.78  \n",
       "7    195453               4    2308                1                    96.91  \n",
       "8    261933               4    2309                0                     1.22  \n",
       "9    234813               4    2310                0                     4.25  "
      ]
     },
     "execution_count": 362,
     "metadata": {},
     "output_type": "execute_result"
    }
   ],
   "source": [
    "df_data_test.head(10)\n",
    "#Para comprobar imprimimos el DataSet y verificamos que estén las marcas."
   ]
  },
  {
   "cell_type": "code",
   "execution_count": null,
   "metadata": {
    "collapsed": true
   },
   "outputs": [],
   "source": []
  }
 ],
 "metadata": {
  "kernelspec": {
   "display_name": "Python 3",
   "language": "python",
   "name": "python3"
  },
  "language_info": {
   "codemirror_mode": {
    "name": "ipython",
    "version": 3
   },
   "file_extension": ".py",
   "mimetype": "text/x-python",
   "name": "python",
   "nbconvert_exporter": "python",
   "pygments_lexer": "ipython3",
   "version": "3.6.1"
  }
 },
 "nbformat": 4,
 "nbformat_minor": 2
}
